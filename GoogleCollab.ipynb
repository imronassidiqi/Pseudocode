{
  "nbformat": 4,
  "nbformat_minor": 0,
  "metadata": {
    "colab": {
      "name": "Untitled0.ipynb",
      "provenance": [],
      "include_colab_link": true
    },
    "kernelspec": {
      "name": "python3",
      "display_name": "Python 3"
    }
  },
  "cells": [
    {
      "cell_type": "markdown",
      "metadata": {
        "id": "view-in-github",
        "colab_type": "text"
      },
      "source": [
        "<a href=\"https://colab.research.google.com/github/TakiyaGenji2/Suzuran/blob/main/gugel%20collab.ipynb\" target=\"_parent\"><img src=\"https://colab.research.google.com/assets/colab-badge.svg\" alt=\"Open In Colab\"/></a>"
      ]
    },
    {
      "cell_type": "code",
      "metadata": {
        "id": "zSRQocm-Bs34"
      },
      "source": [
        ""
      ],
      "execution_count": null,
      "outputs": []
    },
    {
      "cell_type": "markdown",
      "metadata": {
        "id": "KyYUA6dyGCim"
      },
      "source": [
        ""
      ]
    },
    {
      "cell_type": "code",
      "metadata": {
        "id": "k_wTHD2lGDCT"
      },
      "source": [
        ""
      ],
      "execution_count": null,
      "outputs": []
    },
    {
      "cell_type": "code",
      "metadata": {
        "id": "tB93gkP9CEkh",
        "outputId": "0c3709ab-12c9-419f-c80f-84b05422b86a",
        "colab": {
          "base_uri": "https://localhost:8080/"
        }
      },
      "source": [
        "# Program Penjumlahan Dua Bilangan dan kudadratnya\n",
        "# Meminta inputan dari user \n",
        "bil1 = input('Masukkan bilangan pertama: ') \n",
        "bil2 = input('Masukkan bilangan kedua: ') \n",
        "\n",
        "# Menjumlahkan bilangan \n",
        "c = float(bil1) + float(bil2)\n",
        "hasil = c * c\n",
        "\n",
        "# Menampilkan jumlah \n",
        "print('HASIL  {0} + {1} adalah {2}'.format(bil1, bil2, hasil))\n"
      ],
      "execution_count": null,
      "outputs": [
        {
          "output_type": "stream",
          "text": [
            "Masukkan bilangan pertama: 1\n",
            "Masukkan bilangan kedua: 2\n",
            "HASIL  1 + 2 adalah 9.0\n"
          ],
          "name": "stdout"
        }
      ]
    },
    {
      "cell_type": "code",
      "metadata": {
        "id": "4Uu1s7mAEbwW"
      },
      "source": [
        ""
      ],
      "execution_count": null,
      "outputs": []
    },
    {
      "cell_type": "code",
      "metadata": {
        "id": "xVxnjH6_Ei25"
      },
      "source": [
        ""
      ],
      "execution_count": null,
      "outputs": []
    }
  ]
}
